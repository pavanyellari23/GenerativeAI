{
  "nbformat": 4,
  "nbformat_minor": 0,
  "metadata": {
    "colab": {
      "provenance": [],
      "gpuType": "T4"
    },
    "kernelspec": {
      "name": "python3",
      "display_name": "Python 3"
    },
    "accelerator": "GPU"
  },
  "cells": [
    {
      "cell_type": "markdown",
      "metadata": {
        "id": "view-in-github"
      },
      "source": [
        "<a href=\"https://colab.research.google.com/github/Femme-js/Denoising-Autoencoder-cifar-10/blob/master/Denoising_AutoEncoder.ipynb\" target=\"_parent\"><img src=\"https://colab.research.google.com/assets/colab-badge.svg\" alt=\"Open In Colab\"/></a>"
      ]
    },
    {
      "cell_type": "code",
      "metadata": {
        "id": "E7JACQ4mvohm"
      },
      "source": [
        "import numpy as np\n",
        "import matplotlib.pyplot as plt\n",
        "from tensorflow.keras.layers import Conv2D, Input, Dense, Reshape, Conv2DTranspose,\\\n",
        "   Activation, BatchNormalization, ReLU, Concatenate\n",
        "from tensorflow.keras.models import Model\n",
        "from tensorflow.keras.callbacks import ModelCheckpoint\n",
        "from tensorflow.keras.datasets import  cifar10"
      ],
      "execution_count": 1,
      "outputs": []
    },
    {
      "cell_type": "code",
      "metadata": {
        "id": "RVxLqT1I6BAy",
        "colab": {
          "base_uri": "https://localhost:8080/"
        },
        "outputId": "86b8f052-486f-41e7-ee9f-b0d0b403d7ba"
      },
      "source": [
        "(train_data_clean, _), (test_data_clean, _) = cifar10.load_data( )"
      ],
      "execution_count": 2,
      "outputs": [
        {
          "output_type": "stream",
          "name": "stdout",
          "text": [
            "Downloading data from https://www.cs.toronto.edu/~kriz/cifar-10-python.tar.gz\n",
            "170498071/170498071 [==============================] - 4s 0us/step\n"
          ]
        }
      ]
    },
    {
      "cell_type": "code",
      "metadata": {
        "id": "kpsbVtx66NAd",
        "colab": {
          "base_uri": "https://localhost:8080/"
        },
        "outputId": "6df98938-f74d-4d88-f2e6-90e7d640617e"
      },
      "source": [
        "#convert data to floats\n",
        "\n",
        "train_data_clean = train_data_clean.astype('float32') / 255.\n",
        "test_data_clean = test_data_clean.astype('float32') / 255.\n",
        "len(train_data_clean)\n",
        "len(test_data_clean)"
      ],
      "execution_count": 3,
      "outputs": [
        {
          "output_type": "execute_result",
          "data": {
            "text/plain": [
              "10000"
            ]
          },
          "metadata": {},
          "execution_count": 3
        }
      ]
    },
    {
      "cell_type": "code",
      "metadata": {
        "id": "Xk1hUUBY6MGl"
      },
      "source": [
        "# Adding noise\n",
        "\n",
        "def add_noise_and_clip_data(data):\n",
        "   noise = np.random.normal(loc=0.0, scale=0.1, size=data.shape)\n",
        "   data = data + noise\n",
        "   data = np.clip(data, 0., 1.)\n",
        "   return data\n",
        "train_data_noisy = add_noise_and_clip_data(train_data_clean)\n",
        "test_data_noisy = add_noise_and_clip_data(test_data_clean)"
      ],
      "execution_count": 4,
      "outputs": []
    },
    {
      "cell_type": "code",
      "metadata": {
        "id": "PeJCXAl2MTef",
        "colab": {
          "base_uri": "https://localhost:8080/"
        },
        "outputId": "66599875-9dca-4fca-dadd-d6ae6acdf0c5"
      },
      "source": [
        "\n",
        "len(train_data_noisy)\n",
        "len(test_data_noisy)"
      ],
      "execution_count": 5,
      "outputs": [
        {
          "output_type": "execute_result",
          "data": {
            "text/plain": [
              "10000"
            ]
          },
          "metadata": {},
          "execution_count": 5
        }
      ]
    },
    {
      "cell_type": "code",
      "metadata": {
        "id": "pgGYKipW6xbl",
        "colab": {
          "base_uri": "https://localhost:8080/",
          "height": 308
        },
        "outputId": "8e106a30-7987-4770-bc88-69df2b95b37b"
      },
      "source": [
        "idx = 4\n",
        "plt.subplot(1,2,1)\n",
        "plt.imshow(train_data_clean[idx])\n",
        "plt.title('Original image')\n",
        "plt.subplot(1,2,2)\n",
        "plt.imshow(train_data_noisy[idx])\n",
        "plt.title('Image with noise')\n",
        "plt.show()"
      ],
      "execution_count": 6,
      "outputs": [
        {
          "output_type": "display_data",
          "data": {
            "text/plain": [
              "<Figure size 640x480 with 2 Axes>"
            ],
            "image/png": "[encoded data removed]"
          },
          "metadata": {}
        }
      ]
    },
    {
      "cell_type": "code",
      "metadata": {
        "id": "9a6Kj5m97EdV"
      },
      "source": [
        "\n",
        "#Defining the architecture\n",
        "\n",
        "def conv_block(x, filters, kernel_size, strides=2):\n",
        "   x = Conv2D(filters=filters,\n",
        "              kernel_size=kernel_size,\n",
        "              strides=strides,\n",
        "              padding='same')(x)\n",
        "   x = BatchNormalization()(x)\n",
        "   x = ReLU()(x)\n",
        "   return x"
      ],
      "execution_count": 7,
      "outputs": []
    },
    {
      "cell_type": "code",
      "metadata": {
        "id": "Q3e_EOig7cwI"
      },
      "source": [
        "def deconv_block(x, filters, kernel_size):\n",
        "   x = Conv2DTranspose(filters=filters,\n",
        "                       kernel_size=kernel_size,\n",
        "                       strides=2,\n",
        "                       padding='same')(x)\n",
        "   x = BatchNormalization()(x)\n",
        "   x = ReLU()(x)\n",
        "   return x"
      ],
      "execution_count": 8,
      "outputs": []
    },
    {
      "cell_type": "code",
      "metadata": {
        "id": "ScrlevAr7zsA"
      },
      "source": [
        "def denoising_autoencoder():\n",
        "   dae_inputs = Input(shape=(32, 32, 3), name='dae_input')\n",
        "   conv_block1 = conv_block(dae_inputs, 32, 3)\n",
        "   conv_block2 = conv_block(conv_block1, 64, 3)\n",
        "   conv_block3 = conv_block(conv_block2, 128, 3)\n",
        "   conv_block4 = conv_block(conv_block3, 256, 3)\n",
        "   conv_block5 = conv_block(conv_block4, 256, 3, 1)\n",
        "\n",
        "   deconv_block1 = deconv_block(conv_block5, 256, 3)\n",
        "   merge1 = Concatenate()([deconv_block1, conv_block3])\n",
        "   deconv_block2 = deconv_block(merge1, 128, 3)\n",
        "   merge2 = Concatenate()([deconv_block2, conv_block2])\n",
        "   deconv_block3 = deconv_block(merge2, 64, 3)\n",
        "   merge3 = Concatenate()([deconv_block3, conv_block1])\n",
        "   deconv_block4 = deconv_block(merge3, 32, 3)\n",
        "\n",
        "   final_deconv = Conv2DTranspose(filters=3,\n",
        "                       kernel_size=3,\n",
        "                       padding='same')(deconv_block4)\n",
        "\n",
        "   dae_outputs = Activation('sigmoid', name='dae_output')(final_deconv)\n",
        "\n",
        "   return Model(dae_inputs, dae_outputs, name='dae')\n"
      ],
      "execution_count": 9,
      "outputs": []
    },
    {
      "cell_type": "code",
      "metadata": {
        "id": "5RB5RHhaS19W"
      },
      "source": [
        "import keras.backend as K\n",
        "\n",
        "# Create a loss function that adds the MSE loss to the mean of all squared activations of a specific layer\n",
        "def loss(y_true,y_pred):\n",
        "    return K.mean(K.square(y_pred - y_true) + K.mean(y_pred), axis=-1)\n",
        "\n",
        "    return loss"
      ],
      "execution_count": 10,
      "outputs": []
    },
    {
      "cell_type": "code",
      "metadata": {
        "id": "oe_SXyxIjomM",
        "colab": {
          "base_uri": "https://localhost:8080/"
        },
        "outputId": "96339d72-f2b9-48b4-a01c-47105d97ac5c"
      },
      "source": [
        "# Compiling the model\n",
        "\n",
        "dae = denoising_autoencoder()\n",
        "dae.compile(loss='mse', optimizer='adam', metrics=['accuracy'])\n",
        "\n",
        "checkpoint = ModelCheckpoint('best_model.h5', verbose=1, save_best_only=True, save_weights_only=True)\n",
        "\n",
        "history = dae.fit(train_data_noisy[:9000], train_data_clean[:9000], validation_data = (test_data_noisy[9000:], test_data_clean[9000:]),\n",
        "\n",
        "       epochs=100,\n",
        "       batch_size=128,\n",
        "       callbacks=[checkpoint])"
      ],
      "execution_count": 11,
      "outputs": [
        {
          "output_type": "stream",
          "name": "stdout",
          "text": [
            "Epoch 1/100\n",
            "71/71 [==============================] - ETA: 0s - loss: 0.0120 - accuracy: 0.5654\n",
            "Epoch 1: val_loss improved from inf to 0.04765, saving model to best_model.h5\n",
            "71/71 [==============================] - 15s 59ms/step - loss: 0.0120 - accuracy: 0.5654 - val_loss: 0.0477 - val_accuracy: 0.5527\n",
            "Epoch 2/100\n",
            "70/71 [============================>.] - ETA: 0s - loss: 0.0039 - accuracy: 0.6902\n",
            "Epoch 2: val_loss improved from 0.04765 to 0.03622, saving model to best_model.h5\n",
            "71/71 [==============================] - 2s 22ms/step - loss: 0.0039 - accuracy: 0.6903 - val_loss: 0.0362 - val_accuracy: 0.5666\n",
            "Epoch 3/100\n",
            "70/71 [============================>.] - ETA: 0s - loss: 0.0032 - accuracy: 0.7205\n",
            "Epoch 3: val_loss improved from 0.03622 to 0.02331, saving model to best_model.h5\n",
            "71/71 [==============================] - 2s 24ms/step - loss: 0.0032 - accuracy: 0.7206 - val_loss: 0.0233 - val_accuracy: 0.6262\n",
            "Epoch 4/100\n",
            "71/71 [==============================] - ETA: 0s - loss: 0.0029 - accuracy: 0.7343\n",
            "Epoch 4: val_loss improved from 0.02331 to 0.01408, saving model to best_model.h5\n",
            "71/71 [==============================] - 2s 25ms/step - loss: 0.0029 - accuracy: 0.7343 - val_loss: 0.0141 - val_accuracy: 0.6502\n",
            "Epoch 5/100\n",
            "70/71 [============================>.] - ETA: 0s - loss: 0.0027 - accuracy: 0.7430\n",
            "Epoch 5: val_loss improved from 0.01408 to 0.00720, saving model to best_model.h5\n",
            "71/71 [==============================] - 2s 22ms/step - loss: 0.0027 - accuracy: 0.7430 - val_loss: 0.0072 - val_accuracy: 0.7197\n",
            "Epoch 6/100\n",
            "70/71 [============================>.] - ETA: 0s - loss: 0.0026 - accuracy: 0.7491\n",
            "Epoch 6: val_loss improved from 0.00720 to 0.00372, saving model to best_model.h5\n",
            "71/71 [==============================] - 2s 22ms/step - loss: 0.0026 - accuracy: 0.7490 - val_loss: 0.0037 - val_accuracy: 0.7486\n",
            "Epoch 7/100\n",
            "70/71 [============================>.] - ETA: 0s - loss: 0.0025 - accuracy: 0.7537\n",
            "Epoch 7: val_loss improved from 0.00372 to 0.00265, saving model to best_model.h5\n",
            "71/71 [==============================] - 2s 23ms/step - loss: 0.0025 - accuracy: 0.7537 - val_loss: 0.0027 - val_accuracy: 0.7471\n",
            "Epoch 8/100\n",
            "70/71 [============================>.] - ETA: 0s - loss: 0.0024 - accuracy: 0.7537\n",
            "Epoch 8: val_loss improved from 0.00265 to 0.00251, saving model to best_model.h5\n",
            "71/71 [==============================] - 2s 22ms/step - loss: 0.0024 - accuracy: 0.7538 - val_loss: 0.0025 - val_accuracy: 0.7547\n",
            "Epoch 9/100\n",
            "70/71 [============================>.] - ETA: 0s - loss: 0.0024 - accuracy: 0.7621\n",
            "Epoch 9: val_loss improved from 0.00251 to 0.00228, saving model to best_model.h5\n",
            "71/71 [==============================] - 2s 23ms/step - loss: 0.0024 - accuracy: 0.7624 - val_loss: 0.0023 - val_accuracy: 0.7433\n",
            "Epoch 10/100\n",
            "69/71 [============================>.] - ETA: 0s - loss: 0.0024 - accuracy: 0.7641\n",
            "Epoch 10: val_loss improved from 0.00228 to 0.00217, saving model to best_model.h5\n",
            "71/71 [==============================] - 2s 26ms/step - loss: 0.0024 - accuracy: 0.7642 - val_loss: 0.0022 - val_accuracy: 0.7619\n",
            "Epoch 11/100\n",
            "69/71 [============================>.] - ETA: 0s - loss: 0.0024 - accuracy: 0.7645\n",
            "Epoch 11: val_loss did not improve from 0.00217\n",
            "71/71 [==============================] - 2s 25ms/step - loss: 0.0024 - accuracy: 0.7644 - val_loss: 0.0022 - val_accuracy: 0.7380\n",
            "Epoch 12/100\n",
            "70/71 [============================>.] - ETA: 0s - loss: 0.0022 - accuracy: 0.7682\n",
            "Epoch 12: val_loss improved from 0.00217 to 0.00211, saving model to best_model.h5\n",
            "71/71 [==============================] - 2s 23ms/step - loss: 0.0022 - accuracy: 0.7682 - val_loss: 0.0021 - val_accuracy: 0.7661\n",
            "Epoch 13/100\n",
            "70/71 [============================>.] - ETA: 0s - loss: 0.0023 - accuracy: 0.7687\n",
            "Epoch 13: val_loss did not improve from 0.00211\n",
            "71/71 [==============================] - 2s 21ms/step - loss: 0.0023 - accuracy: 0.7685 - val_loss: 0.0037 - val_accuracy: 0.7690\n",
            "Epoch 14/100\n",
            "70/71 [============================>.] - ETA: 0s - loss: 0.0023 - accuracy: 0.7679\n",
            "Epoch 14: val_loss did not improve from 0.00211\n",
            "71/71 [==============================] - 2s 21ms/step - loss: 0.0023 - accuracy: 0.7678 - val_loss: 0.0029 - val_accuracy: 0.7712\n",
            "Epoch 15/100\n",
            "70/71 [============================>.] - ETA: 0s - loss: 0.0022 - accuracy: 0.7718\n",
            "Epoch 15: val_loss improved from 0.00211 to 0.00206, saving model to best_model.h5\n",
            "71/71 [==============================] - 2s 23ms/step - loss: 0.0022 - accuracy: 0.7719 - val_loss: 0.0021 - val_accuracy: 0.7687\n",
            "Epoch 16/100\n",
            "70/71 [============================>.] - ETA: 0s - loss: 0.0022 - accuracy: 0.7736\n",
            "Epoch 16: val_loss improved from 0.00206 to 0.00202, saving model to best_model.h5\n",
            "71/71 [==============================] - 2s 23ms/step - loss: 0.0022 - accuracy: 0.7735 - val_loss: 0.0020 - val_accuracy: 0.7713\n",
            "Epoch 17/100\n",
            "70/71 [============================>.] - ETA: 0s - loss: 0.0021 - accuracy: 0.7740\n",
            "Epoch 17: val_loss did not improve from 0.00202\n",
            "71/71 [==============================] - 2s 23ms/step - loss: 0.0021 - accuracy: 0.7740 - val_loss: 0.0021 - val_accuracy: 0.7709\n",
            "Epoch 18/100\n",
            "70/71 [============================>.] - ETA: 0s - loss: 0.0022 - accuracy: 0.7742\n",
            "Epoch 18: val_loss improved from 0.00202 to 0.00197, saving model to best_model.h5\n",
            "71/71 [==============================] - 2s 23ms/step - loss: 0.0022 - accuracy: 0.7742 - val_loss: 0.0020 - val_accuracy: 0.7715\n",
            "Epoch 19/100\n",
            "69/71 [============================>.] - ETA: 0s - loss: 0.0021 - accuracy: 0.7765\n",
            "Epoch 19: val_loss did not improve from 0.00197\n",
            "71/71 [==============================] - 2s 25ms/step - loss: 0.0021 - accuracy: 0.7763 - val_loss: 0.0020 - val_accuracy: 0.7827\n",
            "Epoch 20/100\n",
            "70/71 [============================>.] - ETA: 0s - loss: 0.0021 - accuracy: 0.7752\n",
            "Epoch 20: val_loss did not improve from 0.00197\n",
            "71/71 [==============================] - 2s 21ms/step - loss: 0.0021 - accuracy: 0.7753 - val_loss: 0.0021 - val_accuracy: 0.7684\n",
            "Epoch 21/100\n",
            "70/71 [============================>.] - ETA: 0s - loss: 0.0021 - accuracy: 0.7776\n",
            "Epoch 21: val_loss did not improve from 0.00197\n",
            "71/71 [==============================] - 2s 22ms/step - loss: 0.0021 - accuracy: 0.7776 - val_loss: 0.0022 - val_accuracy: 0.7713\n",
            "Epoch 22/100\n",
            "70/71 [============================>.] - ETA: 0s - loss: 0.0021 - accuracy: 0.7762\n",
            "Epoch 22: val_loss improved from 0.00197 to 0.00192, saving model to best_model.h5\n",
            "71/71 [==============================] - 2s 23ms/step - loss: 0.0021 - accuracy: 0.7762 - val_loss: 0.0019 - val_accuracy: 0.7700\n",
            "Epoch 23/100\n",
            "70/71 [============================>.] - ETA: 0s - loss: 0.0020 - accuracy: 0.7789\n",
            "Epoch 23: val_loss did not improve from 0.00192\n",
            "71/71 [==============================] - 2s 23ms/step - loss: 0.0020 - accuracy: 0.7789 - val_loss: 0.0020 - val_accuracy: 0.7709\n",
            "Epoch 24/100\n",
            "70/71 [============================>.] - ETA: 0s - loss: 0.0020 - accuracy: 0.7808\n",
            "Epoch 24: val_loss improved from 0.00192 to 0.00189, saving model to best_model.h5\n",
            "71/71 [==============================] - 2s 26ms/step - loss: 0.0020 - accuracy: 0.7808 - val_loss: 0.0019 - val_accuracy: 0.7880\n",
            "Epoch 25/100\n",
            "69/71 [============================>.] - ETA: 0s - loss: 0.0021 - accuracy: 0.7795\n",
            "Epoch 25: val_loss did not improve from 0.00189\n",
            "71/71 [==============================] - 2s 29ms/step - loss: 0.0021 - accuracy: 0.7796 - val_loss: 0.0019 - val_accuracy: 0.7739\n",
            "Epoch 26/100\n",
            "71/71 [==============================] - ETA: 0s - loss: 0.0020 - accuracy: 0.7816\n",
            "Epoch 26: val_loss improved from 0.00189 to 0.00186, saving model to best_model.h5\n",
            "71/71 [==============================] - 2s 32ms/step - loss: 0.0020 - accuracy: 0.7816 - val_loss: 0.0019 - val_accuracy: 0.7887\n",
            "Epoch 27/100\n",
            "71/71 [==============================] - ETA: 0s - loss: 0.0020 - accuracy: 0.7812\n",
            "Epoch 27: val_loss did not improve from 0.00186\n",
            "71/71 [==============================] - 2s 29ms/step - loss: 0.0020 - accuracy: 0.7812 - val_loss: 0.0020 - val_accuracy: 0.7865\n",
            "Epoch 28/100\n",
            "69/71 [============================>.] - ETA: 0s - loss: 0.0020 - accuracy: 0.7837\n",
            "Epoch 28: val_loss did not improve from 0.00186\n",
            "71/71 [==============================] - 2s 28ms/step - loss: 0.0020 - accuracy: 0.7837 - val_loss: 0.0019 - val_accuracy: 0.7821\n",
            "Epoch 29/100\n",
            "69/71 [============================>.] - ETA: 0s - loss: 0.0020 - accuracy: 0.7841\n",
            "Epoch 29: val_loss did not improve from 0.00186\n",
            "71/71 [==============================] - 2s 24ms/step - loss: 0.0020 - accuracy: 0.7841 - val_loss: 0.0020 - val_accuracy: 0.7696\n",
            "Epoch 30/100\n",
            "70/71 [============================>.] - ETA: 0s - loss: 0.0020 - accuracy: 0.7833\n",
            "Epoch 30: val_loss did not improve from 0.00186\n",
            "71/71 [==============================] - 2s 22ms/step - loss: 0.0020 - accuracy: 0.7831 - val_loss: 0.0019 - val_accuracy: 0.7865\n",
            "Epoch 31/100\n",
            "70/71 [============================>.] - ETA: 0s - loss: 0.0019 - accuracy: 0.7848\n",
            "Epoch 31: val_loss did not improve from 0.00186\n",
            "71/71 [==============================] - 2s 22ms/step - loss: 0.0019 - accuracy: 0.7849 - val_loss: 0.0019 - val_accuracy: 0.7757\n",
            "Epoch 32/100\n",
            "69/71 [============================>.] - ETA: 0s - loss: 0.0020 - accuracy: 0.7842\n",
            "Epoch 32: val_loss did not improve from 0.00186\n",
            "71/71 [==============================] - 2s 23ms/step - loss: 0.0020 - accuracy: 0.7839 - val_loss: 0.0019 - val_accuracy: 0.7737\n",
            "Epoch 33/100\n",
            "70/71 [============================>.] - ETA: 0s - loss: 0.0019 - accuracy: 0.7879\n",
            "Epoch 33: val_loss improved from 0.00186 to 0.00186, saving model to best_model.h5\n",
            "71/71 [==============================] - 2s 26ms/step - loss: 0.0019 - accuracy: 0.7877 - val_loss: 0.0019 - val_accuracy: 0.7892\n",
            "Epoch 34/100\n",
            "69/71 [============================>.] - ETA: 0s - loss: 0.0019 - accuracy: 0.7876\n",
            "Epoch 34: val_loss did not improve from 0.00186\n",
            "71/71 [==============================] - 2s 25ms/step - loss: 0.0019 - accuracy: 0.7874 - val_loss: 0.0021 - val_accuracy: 0.7674\n",
            "Epoch 35/100\n",
            "69/71 [============================>.] - ETA: 0s - loss: 0.0019 - accuracy: 0.7899\n",
            "Epoch 35: val_loss improved from 0.00186 to 0.00183, saving model to best_model.h5\n",
            "71/71 [==============================] - 2s 24ms/step - loss: 0.0019 - accuracy: 0.7898 - val_loss: 0.0018 - val_accuracy: 0.7910\n",
            "Epoch 36/100\n",
            "70/71 [============================>.] - ETA: 0s - loss: 0.0019 - accuracy: 0.7898\n",
            "Epoch 36: val_loss did not improve from 0.00183\n",
            "71/71 [==============================] - 2s 21ms/step - loss: 0.0019 - accuracy: 0.7898 - val_loss: 0.0019 - val_accuracy: 0.7861\n",
            "Epoch 37/100\n",
            "70/71 [============================>.] - ETA: 0s - loss: 0.0018 - accuracy: 0.7907\n",
            "Epoch 37: val_loss did not improve from 0.00183\n",
            "71/71 [==============================] - 2s 22ms/step - loss: 0.0018 - accuracy: 0.7907 - val_loss: 0.0019 - val_accuracy: 0.7958\n",
            "Epoch 38/100\n",
            "70/71 [============================>.] - ETA: 0s - loss: 0.0019 - accuracy: 0.7885\n",
            "Epoch 38: val_loss did not improve from 0.00183\n",
            "71/71 [==============================] - 2s 22ms/step - loss: 0.0019 - accuracy: 0.7884 - val_loss: 0.0020 - val_accuracy: 0.7883\n",
            "Epoch 39/100\n",
            "70/71 [============================>.] - ETA: 0s - loss: 0.0018 - accuracy: 0.7886\n",
            "Epoch 39: val_loss improved from 0.00183 to 0.00183, saving model to best_model.h5\n",
            "71/71 [==============================] - 2s 23ms/step - loss: 0.0018 - accuracy: 0.7885 - val_loss: 0.0018 - val_accuracy: 0.7810\n",
            "Epoch 40/100\n",
            "71/71 [==============================] - ETA: 0s - loss: 0.0018 - accuracy: 0.7931\n",
            "Epoch 40: val_loss did not improve from 0.00183\n",
            "71/71 [==============================] - 2s 24ms/step - loss: 0.0018 - accuracy: 0.7931 - val_loss: 0.0020 - val_accuracy: 0.7725\n",
            "Epoch 41/100\n",
            "70/71 [============================>.] - ETA: 0s - loss: 0.0018 - accuracy: 0.7896\n",
            "Epoch 41: val_loss did not improve from 0.00183\n",
            "71/71 [==============================] - 2s 23ms/step - loss: 0.0018 - accuracy: 0.7894 - val_loss: 0.0019 - val_accuracy: 0.7815\n",
            "Epoch 42/100\n",
            "70/71 [============================>.] - ETA: 0s - loss: 0.0018 - accuracy: 0.7893\n",
            "Epoch 42: val_loss did not improve from 0.00183\n",
            "71/71 [==============================] - 2s 23ms/step - loss: 0.0018 - accuracy: 0.7894 - val_loss: 0.0019 - val_accuracy: 0.7827\n",
            "Epoch 43/100\n",
            "70/71 [============================>.] - ETA: 0s - loss: 0.0018 - accuracy: 0.7923\n",
            "Epoch 43: val_loss did not improve from 0.00183\n",
            "71/71 [==============================] - 2s 23ms/step - loss: 0.0018 - accuracy: 0.7923 - val_loss: 0.0020 - val_accuracy: 0.7880\n",
            "Epoch 44/100\n",
            "70/71 [============================>.] - ETA: 0s - loss: 0.0017 - accuracy: 0.7933\n",
            "Epoch 44: val_loss did not improve from 0.00183\n",
            "71/71 [==============================] - 2s 23ms/step - loss: 0.0017 - accuracy: 0.7935 - val_loss: 0.0019 - val_accuracy: 0.7865\n",
            "Epoch 45/100\n",
            "70/71 [============================>.] - ETA: 0s - loss: 0.0017 - accuracy: 0.7917\n",
            "Epoch 45: val_loss did not improve from 0.00183\n",
            "71/71 [==============================] - 2s 22ms/step - loss: 0.0017 - accuracy: 0.7915 - val_loss: 0.0020 - val_accuracy: 0.7766\n",
            "Epoch 46/100\n",
            "70/71 [============================>.] - ETA: 0s - loss: 0.0018 - accuracy: 0.7942\n",
            "Epoch 46: val_loss did not improve from 0.00183\n",
            "71/71 [==============================] - 2s 23ms/step - loss: 0.0018 - accuracy: 0.7941 - val_loss: 0.0020 - val_accuracy: 0.7747\n",
            "Epoch 47/100\n",
            "69/71 [============================>.] - ETA: 0s - loss: 0.0017 - accuracy: 0.7938\n",
            "Epoch 47: val_loss did not improve from 0.00183\n",
            "71/71 [==============================] - 2s 24ms/step - loss: 0.0017 - accuracy: 0.7940 - val_loss: 0.0019 - val_accuracy: 0.7803\n",
            "Epoch 48/100\n",
            "69/71 [============================>.] - ETA: 0s - loss: 0.0017 - accuracy: 0.7953\n",
            "Epoch 48: val_loss did not improve from 0.00183\n",
            "71/71 [==============================] - 2s 25ms/step - loss: 0.0017 - accuracy: 0.7954 - val_loss: 0.0018 - val_accuracy: 0.7818\n",
            "Epoch 49/100\n",
            "70/71 [============================>.] - ETA: 0s - loss: 0.0017 - accuracy: 0.7946\n",
            "Epoch 49: val_loss did not improve from 0.00183\n",
            "71/71 [==============================] - 2s 23ms/step - loss: 0.0017 - accuracy: 0.7945 - val_loss: 0.0022 - val_accuracy: 0.7760\n",
            "Epoch 50/100\n",
            "70/71 [============================>.] - ETA: 0s - loss: 0.0017 - accuracy: 0.7957\n",
            "Epoch 50: val_loss did not improve from 0.00183\n",
            "71/71 [==============================] - 2s 23ms/step - loss: 0.0017 - accuracy: 0.7957 - val_loss: 0.0019 - val_accuracy: 0.7854\n",
            "Epoch 51/100\n",
            "70/71 [============================>.] - ETA: 0s - loss: 0.0016 - accuracy: 0.7967\n",
            "Epoch 51: val_loss did not improve from 0.00183\n",
            "71/71 [==============================] - 2s 23ms/step - loss: 0.0016 - accuracy: 0.7967 - val_loss: 0.0019 - val_accuracy: 0.7917\n",
            "Epoch 52/100\n",
            "70/71 [============================>.] - ETA: 0s - loss: 0.0017 - accuracy: 0.7971\n",
            "Epoch 52: val_loss did not improve from 0.00183\n",
            "71/71 [==============================] - 2s 24ms/step - loss: 0.0017 - accuracy: 0.7971 - val_loss: 0.0019 - val_accuracy: 0.7791\n",
            "Epoch 53/100\n",
            "70/71 [============================>.] - ETA: 0s - loss: 0.0016 - accuracy: 0.7983\n",
            "Epoch 53: val_loss did not improve from 0.00183\n",
            "71/71 [==============================] - 2s 22ms/step - loss: 0.0016 - accuracy: 0.7983 - val_loss: 0.0019 - val_accuracy: 0.7814\n",
            "Epoch 54/100\n",
            "70/71 [============================>.] - ETA: 0s - loss: 0.0016 - accuracy: 0.7964\n",
            "Epoch 54: val_loss did not improve from 0.00183\n",
            "71/71 [==============================] - 2s 24ms/step - loss: 0.0016 - accuracy: 0.7964 - val_loss: 0.0023 - val_accuracy: 0.7900\n",
            "Epoch 55/100\n",
            "71/71 [==============================] - ETA: 0s - loss: 0.0016 - accuracy: 0.7986\n",
            "Epoch 55: val_loss did not improve from 0.00183\n",
            "71/71 [==============================] - 2s 26ms/step - loss: 0.0016 - accuracy: 0.7986 - val_loss: 0.0021 - val_accuracy: 0.7871\n",
            "Epoch 56/100\n",
            "69/71 [============================>.] - ETA: 0s - loss: 0.0016 - accuracy: 0.8006\n",
            "Epoch 56: val_loss did not improve from 0.00183\n",
            "71/71 [==============================] - 2s 23ms/step - loss: 0.0016 - accuracy: 0.8003 - val_loss: 0.0019 - val_accuracy: 0.7909\n",
            "Epoch 57/100\n",
            "69/71 [============================>.] - ETA: 0s - loss: 0.0016 - accuracy: 0.7985\n",
            "Epoch 57: val_loss did not improve from 0.00183\n",
            "71/71 [==============================] - 2s 23ms/step - loss: 0.0016 - accuracy: 0.7984 - val_loss: 0.0019 - val_accuracy: 0.7805\n",
            "Epoch 58/100\n",
            "70/71 [============================>.] - ETA: 0s - loss: 0.0015 - accuracy: 0.7993\n",
            "Epoch 58: val_loss did not improve from 0.00183\n",
            "71/71 [==============================] - 2s 23ms/step - loss: 0.0015 - accuracy: 0.7992 - val_loss: 0.0019 - val_accuracy: 0.7795\n",
            "Epoch 59/100\n",
            "70/71 [============================>.] - ETA: 0s - loss: 0.0015 - accuracy: 0.8012\n",
            "Epoch 59: val_loss did not improve from 0.00183\n",
            "71/71 [==============================] - 2s 23ms/step - loss: 0.0015 - accuracy: 0.8011 - val_loss: 0.0020 - val_accuracy: 0.7824\n",
            "Epoch 60/100\n",
            "70/71 [============================>.] - ETA: 0s - loss: 0.0015 - accuracy: 0.8009\n",
            "Epoch 60: val_loss did not improve from 0.00183\n",
            "71/71 [==============================] - 2s 24ms/step - loss: 0.0015 - accuracy: 0.8009 - val_loss: 0.0019 - val_accuracy: 0.7780\n",
            "Epoch 61/100\n",
            "70/71 [============================>.] - ETA: 0s - loss: 0.0015 - accuracy: 0.8017\n",
            "Epoch 61: val_loss did not improve from 0.00183\n",
            "71/71 [==============================] - 2s 24ms/step - loss: 0.0015 - accuracy: 0.8016 - val_loss: 0.0020 - val_accuracy: 0.7819\n",
            "Epoch 62/100\n",
            "71/71 [==============================] - ETA: 0s - loss: 0.0015 - accuracy: 0.8024\n",
            "Epoch 62: val_loss did not improve from 0.00183\n",
            "71/71 [==============================] - 2s 25ms/step - loss: 0.0015 - accuracy: 0.8024 - val_loss: 0.0021 - val_accuracy: 0.7705\n",
            "Epoch 63/100\n",
            "70/71 [============================>.] - ETA: 0s - loss: 0.0015 - accuracy: 0.7997\n",
            "Epoch 63: val_loss did not improve from 0.00183\n",
            "71/71 [==============================] - 2s 24ms/step - loss: 0.0015 - accuracy: 0.7997 - val_loss: 0.0020 - val_accuracy: 0.7768\n",
            "Epoch 64/100\n",
            "70/71 [============================>.] - ETA: 0s - loss: 0.0015 - accuracy: 0.8006\n",
            "Epoch 64: val_loss did not improve from 0.00183\n",
            "71/71 [==============================] - 2s 22ms/step - loss: 0.0015 - accuracy: 0.8004 - val_loss: 0.0019 - val_accuracy: 0.7843\n",
            "Epoch 65/100\n",
            "70/71 [============================>.] - ETA: 0s - loss: 0.0014 - accuracy: 0.8028\n",
            "Epoch 65: val_loss did not improve from 0.00183\n",
            "71/71 [==============================] - 2s 24ms/step - loss: 0.0014 - accuracy: 0.8028 - val_loss: 0.0020 - val_accuracy: 0.7690\n",
            "Epoch 66/100\n",
            "70/71 [============================>.] - ETA: 0s - loss: 0.0015 - accuracy: 0.7997\n",
            "Epoch 66: val_loss did not improve from 0.00183\n",
            "71/71 [==============================] - 2s 24ms/step - loss: 0.0015 - accuracy: 0.7998 - val_loss: 0.0020 - val_accuracy: 0.7707\n",
            "Epoch 67/100\n",
            "70/71 [============================>.] - ETA: 0s - loss: 0.0014 - accuracy: 0.8032\n",
            "Epoch 67: val_loss did not improve from 0.00183\n",
            "71/71 [==============================] - 2s 23ms/step - loss: 0.0014 - accuracy: 0.8030 - val_loss: 0.0020 - val_accuracy: 0.7955\n",
            "Epoch 68/100\n",
            "70/71 [============================>.] - ETA: 0s - loss: 0.0015 - accuracy: 0.8019\n",
            "Epoch 68: val_loss did not improve from 0.00183\n",
            "71/71 [==============================] - 2s 24ms/step - loss: 0.0015 - accuracy: 0.8020 - val_loss: 0.0022 - val_accuracy: 0.7877\n",
            "Epoch 69/100\n",
            "70/71 [============================>.] - ETA: 0s - loss: 0.0015 - accuracy: 0.8044\n",
            "Epoch 69: val_loss did not improve from 0.00183\n",
            "71/71 [==============================] - 2s 25ms/step - loss: 0.0015 - accuracy: 0.8044 - val_loss: 0.0022 - val_accuracy: 0.7798\n",
            "Epoch 70/100\n",
            "71/71 [==============================] - ETA: 0s - loss: 0.0014 - accuracy: 0.8009\n",
            "Epoch 70: val_loss did not improve from 0.00183\n",
            "71/71 [==============================] - 2s 24ms/step - loss: 0.0014 - accuracy: 0.8009 - val_loss: 0.0021 - val_accuracy: 0.7819\n",
            "Epoch 71/100\n",
            "70/71 [============================>.] - ETA: 0s - loss: 0.0014 - accuracy: 0.8052\n",
            "Epoch 71: val_loss did not improve from 0.00183\n",
            "71/71 [==============================] - 2s 24ms/step - loss: 0.0014 - accuracy: 0.8052 - val_loss: 0.0021 - val_accuracy: 0.7872\n",
            "Epoch 72/100\n",
            "70/71 [============================>.] - ETA: 0s - loss: 0.0014 - accuracy: 0.8033\n",
            "Epoch 72: val_loss did not improve from 0.00183\n",
            "71/71 [==============================] - 2s 22ms/step - loss: 0.0014 - accuracy: 0.8033 - val_loss: 0.0021 - val_accuracy: 0.7904\n",
            "Epoch 73/100\n",
            "69/71 [============================>.] - ETA: 0s - loss: 0.0014 - accuracy: 0.8042\n",
            "Epoch 73: val_loss did not improve from 0.00183\n",
            "71/71 [==============================] - 2s 25ms/step - loss: 0.0014 - accuracy: 0.8045 - val_loss: 0.0020 - val_accuracy: 0.7791\n",
            "Epoch 74/100\n",
            "71/71 [==============================] - ETA: 0s - loss: 0.0014 - accuracy: 0.8055\n",
            "Epoch 74: val_loss did not improve from 0.00183\n",
            "71/71 [==============================] - 2s 24ms/step - loss: 0.0014 - accuracy: 0.8055 - val_loss: 0.0022 - val_accuracy: 0.7713\n",
            "Epoch 75/100\n",
            "70/71 [============================>.] - ETA: 0s - loss: 0.0014 - accuracy: 0.8045\n",
            "Epoch 75: val_loss did not improve from 0.00183\n",
            "71/71 [==============================] - 2s 22ms/step - loss: 0.0014 - accuracy: 0.8044 - val_loss: 0.0020 - val_accuracy: 0.7857\n",
            "Epoch 76/100\n",
            "70/71 [============================>.] - ETA: 0s - loss: 0.0014 - accuracy: 0.8067\n",
            "Epoch 76: val_loss did not improve from 0.00183\n",
            "71/71 [==============================] - 2s 23ms/step - loss: 0.0014 - accuracy: 0.8067 - val_loss: 0.0022 - val_accuracy: 0.7767\n",
            "Epoch 77/100\n",
            "71/71 [==============================] - ETA: 0s - loss: 0.0014 - accuracy: 0.8057\n",
            "Epoch 77: val_loss did not improve from 0.00183\n",
            "71/71 [==============================] - 2s 25ms/step - loss: 0.0014 - accuracy: 0.8057 - val_loss: 0.0020 - val_accuracy: 0.7806\n",
            "Epoch 78/100\n",
            "70/71 [============================>.] - ETA: 0s - loss: 0.0015 - accuracy: 0.8032\n",
            "Epoch 78: val_loss did not improve from 0.00183\n",
            "71/71 [==============================] - 2s 24ms/step - loss: 0.0015 - accuracy: 0.8031 - val_loss: 0.0020 - val_accuracy: 0.7648\n",
            "Epoch 79/100\n",
            "70/71 [============================>.] - ETA: 0s - loss: 0.0014 - accuracy: 0.8025\n",
            "Epoch 79: val_loss did not improve from 0.00183\n",
            "71/71 [==============================] - 2s 23ms/step - loss: 0.0014 - accuracy: 0.8026 - val_loss: 0.0020 - val_accuracy: 0.7797\n",
            "Epoch 80/100\n",
            "70/71 [============================>.] - ETA: 0s - loss: 0.0013 - accuracy: 0.8078\n",
            "Epoch 80: val_loss did not improve from 0.00183\n",
            "71/71 [==============================] - 2s 23ms/step - loss: 0.0013 - accuracy: 0.8078 - val_loss: 0.0021 - val_accuracy: 0.7892\n",
            "Epoch 81/100\n",
            "70/71 [============================>.] - ETA: 0s - loss: 0.0013 - accuracy: 0.8043\n",
            "Epoch 81: val_loss did not improve from 0.00183\n",
            "71/71 [==============================] - 2s 22ms/step - loss: 0.0013 - accuracy: 0.8044 - val_loss: 0.0020 - val_accuracy: 0.7860\n",
            "Epoch 82/100\n",
            "70/71 [============================>.] - ETA: 0s - loss: 0.0014 - accuracy: 0.8055\n",
            "Epoch 82: val_loss did not improve from 0.00183\n",
            "71/71 [==============================] - 2s 22ms/step - loss: 0.0014 - accuracy: 0.8052 - val_loss: 0.0020 - val_accuracy: 0.7828\n",
            "Epoch 83/100\n",
            "70/71 [============================>.] - ETA: 0s - loss: 0.0013 - accuracy: 0.8055\n",
            "Epoch 83: val_loss did not improve from 0.00183\n",
            "71/71 [==============================] - 2s 22ms/step - loss: 0.0013 - accuracy: 0.8055 - val_loss: 0.0020 - val_accuracy: 0.7774\n",
            "Epoch 84/100\n",
            "69/71 [============================>.] - ETA: 0s - loss: 0.0013 - accuracy: 0.8067\n",
            "Epoch 84: val_loss did not improve from 0.00183\n",
            "71/71 [==============================] - 2s 25ms/step - loss: 0.0013 - accuracy: 0.8069 - val_loss: 0.0020 - val_accuracy: 0.7809\n",
            "Epoch 85/100\n",
            "69/71 [============================>.] - ETA: 0s - loss: 0.0013 - accuracy: 0.8071\n",
            "Epoch 85: val_loss did not improve from 0.00183\n",
            "71/71 [==============================] - 2s 23ms/step - loss: 0.0013 - accuracy: 0.8071 - val_loss: 0.0021 - val_accuracy: 0.7827\n",
            "Epoch 86/100\n",
            "70/71 [============================>.] - ETA: 0s - loss: 0.0013 - accuracy: 0.8074\n",
            "Epoch 86: val_loss did not improve from 0.00183\n",
            "71/71 [==============================] - 2s 23ms/step - loss: 0.0013 - accuracy: 0.8075 - val_loss: 0.0020 - val_accuracy: 0.7808\n",
            "Epoch 87/100\n",
            "70/71 [============================>.] - ETA: 0s - loss: 0.0013 - accuracy: 0.8065\n",
            "Epoch 87: val_loss did not improve from 0.00183\n",
            "71/71 [==============================] - 2s 23ms/step - loss: 0.0013 - accuracy: 0.8064 - val_loss: 0.0020 - val_accuracy: 0.7877\n",
            "Epoch 88/100\n",
            "70/71 [============================>.] - ETA: 0s - loss: 0.0013 - accuracy: 0.8059\n",
            "Epoch 88: val_loss did not improve from 0.00183\n",
            "71/71 [==============================] - 2s 23ms/step - loss: 0.0013 - accuracy: 0.8059 - val_loss: 0.0020 - val_accuracy: 0.7956\n",
            "Epoch 89/100\n",
            "70/71 [============================>.] - ETA: 0s - loss: 0.0013 - accuracy: 0.8061\n",
            "Epoch 89: val_loss did not improve from 0.00183\n",
            "71/71 [==============================] - 2s 22ms/step - loss: 0.0013 - accuracy: 0.8063 - val_loss: 0.0021 - val_accuracy: 0.7916\n",
            "Epoch 90/100\n",
            "70/71 [============================>.] - ETA: 0s - loss: 0.0013 - accuracy: 0.8073\n",
            "Epoch 90: val_loss did not improve from 0.00183\n",
            "71/71 [==============================] - 2s 23ms/step - loss: 0.0013 - accuracy: 0.8072 - val_loss: 0.0021 - val_accuracy: 0.7768\n",
            "Epoch 91/100\n",
            "69/71 [============================>.] - ETA: 0s - loss: 0.0013 - accuracy: 0.8094\n",
            "Epoch 91: val_loss did not improve from 0.00183\n",
            "71/71 [==============================] - 2s 23ms/step - loss: 0.0013 - accuracy: 0.8096 - val_loss: 0.0020 - val_accuracy: 0.7842\n",
            "Epoch 92/100\n",
            "69/71 [============================>.] - ETA: 0s - loss: 0.0013 - accuracy: 0.8086\n",
            "Epoch 92: val_loss did not improve from 0.00183\n",
            "71/71 [==============================] - 2s 25ms/step - loss: 0.0013 - accuracy: 0.8080 - val_loss: 0.0022 - val_accuracy: 0.7685\n",
            "Epoch 93/100\n",
            "70/71 [============================>.] - ETA: 0s - loss: 0.0013 - accuracy: 0.8064\n",
            "Epoch 93: val_loss did not improve from 0.00183\n",
            "71/71 [==============================] - 2s 23ms/step - loss: 0.0013 - accuracy: 0.8065 - val_loss: 0.0021 - val_accuracy: 0.7815\n",
            "Epoch 94/100\n",
            "70/71 [============================>.] - ETA: 0s - loss: 0.0013 - accuracy: 0.8060\n",
            "Epoch 94: val_loss did not improve from 0.00183\n",
            "71/71 [==============================] - 2s 23ms/step - loss: 0.0013 - accuracy: 0.8060 - val_loss: 0.0021 - val_accuracy: 0.7862\n",
            "Epoch 95/100\n",
            "70/71 [============================>.] - ETA: 0s - loss: 0.0013 - accuracy: 0.8087\n",
            "Epoch 95: val_loss did not improve from 0.00183\n",
            "71/71 [==============================] - 2s 22ms/step - loss: 0.0013 - accuracy: 0.8086 - val_loss: 0.0020 - val_accuracy: 0.7881\n",
            "Epoch 96/100\n",
            "70/71 [============================>.] - ETA: 0s - loss: 0.0013 - accuracy: 0.8093\n",
            "Epoch 96: val_loss did not improve from 0.00183\n",
            "71/71 [==============================] - 2s 22ms/step - loss: 0.0013 - accuracy: 0.8093 - val_loss: 0.0020 - val_accuracy: 0.7841\n",
            "Epoch 97/100\n",
            "70/71 [============================>.] - ETA: 0s - loss: 0.0013 - accuracy: 0.8086\n",
            "Epoch 97: val_loss did not improve from 0.00183\n",
            "71/71 [==============================] - 2s 23ms/step - loss: 0.0013 - accuracy: 0.8088 - val_loss: 0.0021 - val_accuracy: 0.7897\n",
            "Epoch 98/100\n",
            "70/71 [============================>.] - ETA: 0s - loss: 0.0012 - accuracy: 0.8089\n",
            "Epoch 98: val_loss did not improve from 0.00183\n",
            "71/71 [==============================] - 2s 23ms/step - loss: 0.0012 - accuracy: 0.8089 - val_loss: 0.0021 - val_accuracy: 0.7930\n",
            "Epoch 99/100\n",
            "69/71 [============================>.] - ETA: 0s - loss: 0.0013 - accuracy: 0.8086\n",
            "Epoch 99: val_loss did not improve from 0.00183\n",
            "71/71 [==============================] - 2s 26ms/step - loss: 0.0013 - accuracy: 0.8085 - val_loss: 0.0021 - val_accuracy: 0.7868\n",
            "Epoch 100/100\n",
            "69/71 [============================>.] - ETA: 0s - loss: 0.0013 - accuracy: 0.8094\n",
            "Epoch 100: val_loss did not improve from 0.00183\n",
            "71/71 [==============================] - 2s 24ms/step - loss: 0.0013 - accuracy: 0.8097 - val_loss: 0.0021 - val_accuracy: 0.7814\n"
          ]
        }
      ]
    },
    {
      "cell_type": "code",
      "metadata": {
        "id": "Y8CNHM5N85BV",
        "colab": {
          "base_uri": "https://localhost:8080/",
          "height": 245
        },
        "outputId": "c008c12e-f9a4-42c0-fa47-a60a9b1ba6dc"
      },
      "source": [
        "dae.load_weights('best_model.h5')\n",
        "test_data_denoised = dae.predict(test_data_noisy)\n",
        "idx = 4\n",
        "plt.subplot(1,3,1)\n",
        "plt.imshow(test_data_clean[idx])\n",
        "plt.title('original')\n",
        "plt.subplot(1,3,2)\n",
        "plt.imshow(test_data_noisy[idx])\n",
        "plt.title('noisy')\n",
        "plt.subplot(1,3,3)\n",
        "plt.imshow(test_data_denoised[idx])\n",
        "plt.title('denoised')\n",
        "plt.show()"
      ],
      "execution_count": 12,
      "outputs": [
        {
          "output_type": "stream",
          "name": "stdout",
          "text": [
            "313/313 [==============================] - 2s 4ms/step\n"
          ]
        },
        {
          "output_type": "display_data",
          "data": {
            "text/plain": [
              "<Figure size 640x480 with 3 Axes>"
            ],
            "image/png": "[encoded data removed]"
          },
          "metadata": {}
        }
      ]
    },
    {
      "cell_type": "code",
      "metadata": {
        "id": "yDJDsHDvBSbn",
        "colab": {
          "base_uri": "https://localhost:8080/"
        },
        "outputId": "19df3991-0eb6-4c2b-88ea-9083562e42e8"
      },
      "source": [
        "#Evaluating the loss\n",
        "def mse(data_1, data_2):\n",
        "   return np.square(np.subtract(data_1, data_2)).mean()\n",
        "\n",
        "noisy_clean_mse = mse(test_data_clean, test_data_noisy)\n",
        "denoised_clean_mse = mse(test_data_denoised, test_data_clean)\n",
        "\n",
        "noisy_clean_mse, denoised_clean_mse"
      ],
      "execution_count": 13,
      "outputs": [
        {
          "output_type": "execute_result",
          "data": {
            "text/plain": [
              "(0.009306699487311346, 0.0018456447)"
            ]
          },
          "metadata": {},
          "execution_count": 13
        }
      ]
    },
    {
      "cell_type": "code",
      "metadata": {
        "id": "jzbwIy8d9gyH",
        "colab": {
          "base_uri": "https://localhost:8080/"
        },
        "outputId": "5f16d357-355f-4e3c-cebd-39c9d702b41a"
      },
      "source": [
        "#Evaluating the model on test data\n",
        "results = dae.evaluate(test_data_noisy, test_data_clean, verbose=0)\n",
        "\n",
        "print(\"test loss, test accuracy :\")\n",
        "print(results)"
      ],
      "execution_count": 14,
      "outputs": [
        {
          "output_type": "stream",
          "name": "stdout",
          "text": [
            "test loss, test accuracy :\n",
            "[0.0018456445541232824, 0.7840399146080017]\n"
          ]
        }
      ]
    },
    {
      "cell_type": "code",
      "metadata": {
        "id": "1CF_BgNjpxrq",
        "colab": {
          "base_uri": "https://localhost:8080/",
          "height": 268
        },
        "outputId": "b9fd29b9-1625-40d8-d751-cecaeccc0944"
      },
      "source": [
        "plt.subplot(211)\n",
        "plt.title('Loss')\n",
        "plt.plot(history.history['loss'], label='train')\n",
        "plt.plot(history.history['val_loss'], label='test')\n",
        "plt.legend()"
      ],
      "execution_count": 15,
      "outputs": [
        {
          "output_type": "execute_result",
          "data": {
            "text/plain": [
              "<matplotlib.legend.Legend at 0x7edd841ee680>"
            ]
          },
          "metadata": {},
          "execution_count": 15
        },
        {
          "output_type": "display_data",
          "data": {
            "text/plain": [
              "<Figure size 640x480 with 1 Axes>"
            ],
            "image/png": "[encoded data removed]"
          },
          "metadata": {}
        }
      ]
    },
    {
      "cell_type": "code",
      "metadata": {
        "id": "A5Pw6ZRKwY3y"
      },
      "source": [],
      "execution_count": null,
      "outputs": []
    }
  ]
}